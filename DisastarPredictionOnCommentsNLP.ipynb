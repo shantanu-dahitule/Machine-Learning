{
  "nbformat": 4,
  "nbformat_minor": 0,
  "metadata": {
    "colab": {
      "name": "kaggleComp.ipynb",
      "provenance": []
    },
    "kernelspec": {
      "name": "python3",
      "display_name": "Python 3"
    },
    "language_info": {
      "name": "python"
    }
  },
  "cells": [
    {
      "cell_type": "code",
      "metadata": {
        "id": "leY_pbfS_y4Z"
      },
      "source": [
        "import os\n",
        "os.environ['KAGGLE_CONFIG_DIR'] = \"/content\""
      ],
      "execution_count": null,
      "outputs": []
    },
    {
      "cell_type": "code",
      "metadata": {
        "id": "kKE3d3MY_-zy"
      },
      "source": [
        "import tensorflow as tf\n",
        "import numpy as np\n",
        "import pandas as pd\n",
        " "
      ],
      "execution_count": null,
      "outputs": []
    },
    {
      "cell_type": "code",
      "metadata": {
        "colab": {
          "base_uri": "https://localhost:8080/"
        },
        "id": "lvAhneXT__pR",
        "outputId": "faa024f8-cae7-4edd-eb96-b57f786bd2f8"
      },
      "source": [
        "!kaggle competitions download -c nlp-getting-started"
      ],
      "execution_count": null,
      "outputs": [
        {
          "output_type": "stream",
          "name": "stdout",
          "text": [
            "Warning: Your Kaggle API key is readable by other users on this system! To fix this, you can run 'chmod 600 /content/kaggle.json'\n",
            "Warning: Looks like you're using an outdated API Version, please consider updating (server 1.5.12 / client 1.5.4)\n",
            "Downloading sample_submission.csv to /content\n",
            "  0% 0.00/22.2k [00:00<?, ?B/s]\n",
            "100% 22.2k/22.2k [00:00<00:00, 34.1MB/s]\n",
            "Downloading train.csv to /content\n",
            "  0% 0.00/965k [00:00<?, ?B/s]\n",
            "100% 965k/965k [00:00<00:00, 57.9MB/s]\n",
            "Downloading test.csv to /content\n",
            "  0% 0.00/411k [00:00<?, ?B/s]\n",
            "100% 411k/411k [00:00<00:00, 131MB/s]\n"
          ]
        }
      ]
    },
    {
      "cell_type": "code",
      "metadata": {
        "id": "91z4h2MBABfh"
      },
      "source": [
        "!chmod 600 /content/kaggle.json"
      ],
      "execution_count": null,
      "outputs": []
    },
    {
      "cell_type": "code",
      "metadata": {
        "colab": {
          "base_uri": "https://localhost:8080/"
        },
        "id": "mzY7UeqGEQbW",
        "outputId": "dbcfb532-baa0-4c36-d6f9-ab078e6c0365"
      },
      "source": [
        "dataset='/content/train.csv'\n",
        "df = pd.read_csv(dataset,encoding='latin1')\n",
        "df.head"
      ],
      "execution_count": null,
      "outputs": [
        {
          "output_type": "execute_result",
          "data": {
            "text/plain": [
              "<bound method NDFrame.head of          id keyword  ...                                               text target\n",
              "0         1     NaN  ...  Our Deeds are the Reason of this #earthquake M...      1\n",
              "1         4     NaN  ...             Forest fire near La Ronge Sask. Canada      1\n",
              "2         5     NaN  ...  All residents asked to 'shelter in place' are ...      1\n",
              "3         6     NaN  ...  13,000 people receive #wildfires evacuation or...      1\n",
              "4         7     NaN  ...  Just got sent this photo from Ruby #Alaska as ...      1\n",
              "...     ...     ...  ...                                                ...    ...\n",
              "7608  10869     NaN  ...  Two giant cranes holding a bridge collapse int...      1\n",
              "7609  10870     NaN  ...  @aria_ahrary @TheTawniest The out of control w...      1\n",
              "7610  10871     NaN  ...  M1.94 [01:04 UTC]?5km S of Volcano Hawaii. htt...      1\n",
              "7611  10872     NaN  ...  Police investigating after an e-bike collided ...      1\n",
              "7612  10873     NaN  ...  The Latest: More Homes Razed by Northern Calif...      1\n",
              "\n",
              "[7613 rows x 5 columns]>"
            ]
          },
          "metadata": {},
          "execution_count": 5
        }
      ]
    },
    {
      "cell_type": "code",
      "metadata": {
        "id": "ecKWfxvbE8Ou"
      },
      "source": [
        "df = df.fillna('unknown')"
      ],
      "execution_count": null,
      "outputs": []
    },
    {
      "cell_type": "code",
      "metadata": {
        "id": "m_kwvcizEf4l"
      },
      "source": [
        "def textpreprocessing(comp_df, col):\n",
        "  # remove all the punctuation\n",
        "  comp_df[col] = comp_df[col].str.replace(r'(@\\w*)','')\n",
        "\n",
        "  #Remove URL\n",
        "  comp_df[col] = comp_df[col].str.replace(r\"http\\S+\", \"\")\n",
        "\n",
        "  #Remove # tag and the following words\n",
        "  comp_df[col] = comp_df[col].str.replace(r'#\\w+',\"\")\n",
        "\n",
        "  #Remove all non-character\n",
        "  comp_df[col] = comp_df[col].str.replace(r\"[^a-zA-Z ]\",\"\")\n",
        "\n",
        "  # Remove extra space\n",
        "  comp_df[col] = comp_df[col].str.replace(r'( +)',\" \")\n",
        "  comp_df[col] = comp_df[col].str.strip()\n",
        "\n",
        "  # Change to lowercase\n",
        "  comp_df[col] = comp_df[col].str.lower()\n",
        "  comp_df[col]=comp_df[col].fillna('Unknown')\n",
        "  return comp_df"
      ],
      "execution_count": null,
      "outputs": []
    },
    {
      "cell_type": "code",
      "metadata": {
        "id": "UXHuvLQuEmZ1"
      },
      "source": [
        "df=textpreprocessing(df,'text')"
      ],
      "execution_count": null,
      "outputs": []
    },
    {
      "cell_type": "code",
      "metadata": {
        "colab": {
          "base_uri": "https://localhost:8080/"
        },
        "id": "bt_QCbotFHAG",
        "outputId": "67807dea-2fd7-494a-b896-d5ce222579af"
      },
      "source": [
        "df.head"
      ],
      "execution_count": null,
      "outputs": [
        {
          "output_type": "execute_result",
          "data": {
            "text/plain": [
              "<bound method NDFrame.head of          id  keyword  ...                                               text target\n",
              "0         1  unknown  ...  our deeds are the reason of this may allah for...      1\n",
              "1         4  unknown  ...              forest fire near la ronge sask canada      1\n",
              "2         5  unknown  ...  all residents asked to shelter in place are be...      1\n",
              "3         6  unknown  ...     people receive evacuation orders in california      1\n",
              "4         7  unknown  ...  just got sent this photo from ruby as smoke fr...      1\n",
              "...     ...      ...  ...                                                ...    ...\n",
              "7608  10869  unknown  ...  two giant cranes holding a bridge collapse int...      1\n",
              "7609  10870  unknown  ...  the out of control wild fires in california ev...      1\n",
              "7610  10871  unknown  ...                        m utckm s of volcano hawaii      1\n",
              "7611  10872  unknown  ...  police investigating after an ebike collided w...      1\n",
              "7612  10873  unknown  ...  the latest more homes razed by northern califo...      1\n",
              "\n",
              "[7613 rows x 5 columns]>"
            ]
          },
          "metadata": {},
          "execution_count": 9
        }
      ]
    },
    {
      "cell_type": "code",
      "metadata": {
        "id": "c7Ulw2C2KNq3"
      },
      "source": [
        "df['comment']=df['keyword']+df['text']"
      ],
      "execution_count": null,
      "outputs": []
    },
    {
      "cell_type": "code",
      "metadata": {
        "id": "cCe5Rq3qNTXt"
      },
      "source": [
        "list = ['location', 'id','text','keyword']"
      ],
      "execution_count": null,
      "outputs": []
    },
    {
      "cell_type": "code",
      "metadata": {
        "id": "YWsYLp83GARm"
      },
      "source": [
        "df=df.drop(list, axis=1)"
      ],
      "execution_count": null,
      "outputs": []
    },
    {
      "cell_type": "code",
      "metadata": {
        "id": "sJWa2cYfFI7u"
      },
      "source": [
        "train=df[0:4000]\n",
        "test=df[4000:]"
      ],
      "execution_count": null,
      "outputs": []
    },
    {
      "cell_type": "code",
      "metadata": {
        "colab": {
          "base_uri": "https://localhost:8080/",
          "height": 417
        },
        "id": "mqvmQbYNF7XY",
        "outputId": "8a3b5bfa-f6c1-4987-a596-f6de58c791b4"
      },
      "source": [
        "train"
      ],
      "execution_count": null,
      "outputs": [
        {
          "output_type": "execute_result",
          "data": {
            "text/html": [
              "<div>\n",
              "<style scoped>\n",
              "    .dataframe tbody tr th:only-of-type {\n",
              "        vertical-align: middle;\n",
              "    }\n",
              "\n",
              "    .dataframe tbody tr th {\n",
              "        vertical-align: top;\n",
              "    }\n",
              "\n",
              "    .dataframe thead th {\n",
              "        text-align: right;\n",
              "    }\n",
              "</style>\n",
              "<table border=\"1\" class=\"dataframe\">\n",
              "  <thead>\n",
              "    <tr style=\"text-align: right;\">\n",
              "      <th></th>\n",
              "      <th>target</th>\n",
              "      <th>comment</th>\n",
              "    </tr>\n",
              "  </thead>\n",
              "  <tbody>\n",
              "    <tr>\n",
              "      <th>0</th>\n",
              "      <td>1</td>\n",
              "      <td>unknownour deeds are the reason of this may al...</td>\n",
              "    </tr>\n",
              "    <tr>\n",
              "      <th>1</th>\n",
              "      <td>1</td>\n",
              "      <td>unknownforest fire near la ronge sask canada</td>\n",
              "    </tr>\n",
              "    <tr>\n",
              "      <th>2</th>\n",
              "      <td>1</td>\n",
              "      <td>unknownall residents asked to shelter in place...</td>\n",
              "    </tr>\n",
              "    <tr>\n",
              "      <th>3</th>\n",
              "      <td>1</td>\n",
              "      <td>unknownpeople receive evacuation orders in cal...</td>\n",
              "    </tr>\n",
              "    <tr>\n",
              "      <th>4</th>\n",
              "      <td>1</td>\n",
              "      <td>unknownjust got sent this photo from ruby as s...</td>\n",
              "    </tr>\n",
              "    <tr>\n",
              "      <th>...</th>\n",
              "      <td>...</td>\n",
              "      <td>...</td>\n",
              "    </tr>\n",
              "    <tr>\n",
              "      <th>3995</th>\n",
              "      <td>0</td>\n",
              "      <td>floodshave you ever remembered an old song som...</td>\n",
              "    </tr>\n",
              "    <tr>\n",
              "      <th>3996</th>\n",
              "      <td>0</td>\n",
              "      <td>floodsfloods fishing finally sunshine amp fab ...</td>\n",
              "    </tr>\n",
              "    <tr>\n",
              "      <th>3997</th>\n",
              "      <td>1</td>\n",
              "      <td>floodsbengal floods cm mamata banerjee blames ...</td>\n",
              "    </tr>\n",
              "    <tr>\n",
              "      <th>3998</th>\n",
              "      <td>1</td>\n",
              "      <td>floodsdead due to floods in myanmar naypyidaw ...</td>\n",
              "    </tr>\n",
              "    <tr>\n",
              "      <th>3999</th>\n",
              "      <td>1</td>\n",
              "      <td>floodstyphoon soudelor approaches after killed...</td>\n",
              "    </tr>\n",
              "  </tbody>\n",
              "</table>\n",
              "<p>4000 rows × 2 columns</p>\n",
              "</div>"
            ],
            "text/plain": [
              "      target                                            comment\n",
              "0          1  unknownour deeds are the reason of this may al...\n",
              "1          1       unknownforest fire near la ronge sask canada\n",
              "2          1  unknownall residents asked to shelter in place...\n",
              "3          1  unknownpeople receive evacuation orders in cal...\n",
              "4          1  unknownjust got sent this photo from ruby as s...\n",
              "...      ...                                                ...\n",
              "3995       0  floodshave you ever remembered an old song som...\n",
              "3996       0  floodsfloods fishing finally sunshine amp fab ...\n",
              "3997       1  floodsbengal floods cm mamata banerjee blames ...\n",
              "3998       1  floodsdead due to floods in myanmar naypyidaw ...\n",
              "3999       1  floodstyphoon soudelor approaches after killed...\n",
              "\n",
              "[4000 rows x 2 columns]"
            ]
          },
          "metadata": {},
          "execution_count": 14
        }
      ]
    },
    {
      "cell_type": "code",
      "metadata": {
        "colab": {
          "base_uri": "https://localhost:8080/",
          "height": 417
        },
        "id": "URjQhVOqF8Xe",
        "outputId": "3bc6154b-2927-4baa-b341-2878d58ab864"
      },
      "source": [
        "test"
      ],
      "execution_count": null,
      "outputs": [
        {
          "output_type": "execute_result",
          "data": {
            "text/html": [
              "<div>\n",
              "<style scoped>\n",
              "    .dataframe tbody tr th:only-of-type {\n",
              "        vertical-align: middle;\n",
              "    }\n",
              "\n",
              "    .dataframe tbody tr th {\n",
              "        vertical-align: top;\n",
              "    }\n",
              "\n",
              "    .dataframe thead th {\n",
              "        text-align: right;\n",
              "    }\n",
              "</style>\n",
              "<table border=\"1\" class=\"dataframe\">\n",
              "  <thead>\n",
              "    <tr style=\"text-align: right;\">\n",
              "      <th></th>\n",
              "      <th>target</th>\n",
              "      <th>comment</th>\n",
              "    </tr>\n",
              "  </thead>\n",
              "  <tbody>\n",
              "    <tr>\n",
              "      <th>4000</th>\n",
              "      <td>1</td>\n",
              "      <td>floodswhen it rains in nj it flash floods othe...</td>\n",
              "    </tr>\n",
              "    <tr>\n",
              "      <th>4001</th>\n",
              "      <td>0</td>\n",
              "      <td>floodsdownload itunes floods of glory by luiz ...</td>\n",
              "    </tr>\n",
              "    <tr>\n",
              "      <th>4002</th>\n",
              "      <td>1</td>\n",
              "      <td>floodsyep during floods of or clyde dam releas...</td>\n",
              "    </tr>\n",
              "    <tr>\n",
              "      <th>4003</th>\n",
              "      <td>1</td>\n",
              "      <td>floodsbamenda floods kill animals birds</td>\n",
              "    </tr>\n",
              "    <tr>\n",
              "      <th>4004</th>\n",
              "      <td>0</td>\n",
              "      <td>floodsi hope it rains throughout the whole wee...</td>\n",
              "    </tr>\n",
              "    <tr>\n",
              "      <th>...</th>\n",
              "      <td>...</td>\n",
              "      <td>...</td>\n",
              "    </tr>\n",
              "    <tr>\n",
              "      <th>7608</th>\n",
              "      <td>1</td>\n",
              "      <td>unknowntwo giant cranes holding a bridge colla...</td>\n",
              "    </tr>\n",
              "    <tr>\n",
              "      <th>7609</th>\n",
              "      <td>1</td>\n",
              "      <td>unknownthe out of control wild fires in califo...</td>\n",
              "    </tr>\n",
              "    <tr>\n",
              "      <th>7610</th>\n",
              "      <td>1</td>\n",
              "      <td>unknownm utckm s of volcano hawaii</td>\n",
              "    </tr>\n",
              "    <tr>\n",
              "      <th>7611</th>\n",
              "      <td>1</td>\n",
              "      <td>unknownpolice investigating after an ebike col...</td>\n",
              "    </tr>\n",
              "    <tr>\n",
              "      <th>7612</th>\n",
              "      <td>1</td>\n",
              "      <td>unknownthe latest more homes razed by northern...</td>\n",
              "    </tr>\n",
              "  </tbody>\n",
              "</table>\n",
              "<p>3613 rows × 2 columns</p>\n",
              "</div>"
            ],
            "text/plain": [
              "      target                                            comment\n",
              "4000       1  floodswhen it rains in nj it flash floods othe...\n",
              "4001       0  floodsdownload itunes floods of glory by luiz ...\n",
              "4002       1  floodsyep during floods of or clyde dam releas...\n",
              "4003       1            floodsbamenda floods kill animals birds\n",
              "4004       0  floodsi hope it rains throughout the whole wee...\n",
              "...      ...                                                ...\n",
              "7608       1  unknowntwo giant cranes holding a bridge colla...\n",
              "7609       1  unknownthe out of control wild fires in califo...\n",
              "7610       1                 unknownm utckm s of volcano hawaii\n",
              "7611       1  unknownpolice investigating after an ebike col...\n",
              "7612       1  unknownthe latest more homes razed by northern...\n",
              "\n",
              "[3613 rows x 2 columns]"
            ]
          },
          "metadata": {},
          "execution_count": 15
        }
      ]
    },
    {
      "cell_type": "code",
      "metadata": {
        "id": "eXQXDEe347AY"
      },
      "source": [
        "trainX=train.drop('target',axis=1)\n",
        "trainY=train['target']"
      ],
      "execution_count": null,
      "outputs": []
    },
    {
      "cell_type": "code",
      "metadata": {
        "id": "Ci36JbpJ5Fvf"
      },
      "source": [
        "testX=test.drop('target',axis=1)\n",
        "testY=test['target']"
      ],
      "execution_count": null,
      "outputs": []
    },
    {
      "cell_type": "code",
      "metadata": {
        "id": "SCDagqpCzSsu"
      },
      "source": [
        "trainX=np.array(trainX)\n",
        "testX=np.array(testX)"
      ],
      "execution_count": null,
      "outputs": []
    },
    {
      "cell_type": "code",
      "metadata": {
        "colab": {
          "base_uri": "https://localhost:8080/"
        },
        "id": "7qVyZde00CY-",
        "outputId": "14bcce72-c8b2-4ddd-b951-477a70170fa9"
      },
      "source": [
        "trainX"
      ],
      "execution_count": null,
      "outputs": [
        {
          "output_type": "execute_result",
          "data": {
            "text/plain": [
              "array([['unknownour deeds are the reason of this may allah forgive us all'],\n",
              "       ['unknownforest fire near la ronge sask canada'],\n",
              "       ['unknownall residents asked to shelter in place are being notified by officers no other evacuation or shelter in place orders are expected'],\n",
              "       ...,\n",
              "       ['floodsbengal floods cm mamata banerjee blames dvc bjp claims state failed to use economic t'],\n",
              "       ['floodsdead due to floods in myanmar naypyidaw aug prensa latina the death toll rose today to in myanmar'],\n",
              "       ['floodstyphoon soudelor approaches after killed missing in floods in philippines via']],\n",
              "      dtype=object)"
            ]
          },
          "metadata": {},
          "execution_count": 19
        }
      ]
    },
    {
      "cell_type": "code",
      "metadata": {
        "colab": {
          "base_uri": "https://localhost:8080/"
        },
        "id": "_or3mzhFy8sR",
        "outputId": "71390b99-018b-47c8-8bcf-8b8667794788"
      },
      "source": [
        "for i in range(5):\n",
        "  print(trainX[i])"
      ],
      "execution_count": null,
      "outputs": [
        {
          "output_type": "stream",
          "name": "stdout",
          "text": [
            "['unknownour deeds are the reason of this may allah forgive us all']\n",
            "['unknownforest fire near la ronge sask canada']\n",
            "['unknownall residents asked to shelter in place are being notified by officers no other evacuation or shelter in place orders are expected']\n",
            "['unknownpeople receive evacuation orders in california']\n",
            "['unknownjust got sent this photo from ruby as smoke from pours into a school']\n"
          ]
        }
      ]
    },
    {
      "cell_type": "code",
      "metadata": {
        "colab": {
          "base_uri": "https://localhost:8080/"
        },
        "id": "xpmkEjvk0rk7",
        "outputId": "ee2a8f0d-4646-4464-e34e-e3c5fd78a09e"
      },
      "source": [
        "trainX.ndim"
      ],
      "execution_count": null,
      "outputs": [
        {
          "output_type": "execute_result",
          "data": {
            "text/plain": [
              "2"
            ]
          },
          "metadata": {},
          "execution_count": 21
        }
      ]
    },
    {
      "cell_type": "code",
      "metadata": {
        "id": "qyLbpazD0riX"
      },
      "source": [
        "trainX=trainX.flatten()\n",
        "testX=testX.flatten()"
      ],
      "execution_count": null,
      "outputs": []
    },
    {
      "cell_type": "code",
      "metadata": {
        "colab": {
          "base_uri": "https://localhost:8080/"
        },
        "id": "l08zebO41th2",
        "outputId": "37ce948b-169d-4435-c37a-266c79103bd3"
      },
      "source": [
        "print(trainX.ndim)\n",
        "print(testX.ndim)"
      ],
      "execution_count": null,
      "outputs": [
        {
          "output_type": "stream",
          "name": "stdout",
          "text": [
            "1\n",
            "1\n"
          ]
        }
      ]
    },
    {
      "cell_type": "code",
      "metadata": {
        "id": "WBGY7RFm2NSP"
      },
      "source": [
        "vocab_size=20000\n",
        "word_embed_train=[tf.keras.preprocessing.text.one_hot(i,vocab_size) for i in trainX]\n",
        "word_embed_test=[tf.keras.preprocessing.text.one_hot(i,vocab_size) for i in testX]"
      ],
      "execution_count": null,
      "outputs": []
    },
    {
      "cell_type": "code",
      "metadata": {
        "id": "EhGdhzvy2NQJ"
      },
      "source": [
        "trainX=tf.keras.preprocessing.sequence.pad_sequences(word_embed_train,padding='post')\n",
        "testX=tf.keras.preprocessing.sequence.pad_sequences(word_embed_test,padding='post')"
      ],
      "execution_count": null,
      "outputs": []
    },
    {
      "cell_type": "code",
      "metadata": {
        "id": "-VuCdv_t_Yon"
      },
      "source": [
        "from tensorflow.keras.layers import Embedding"
      ],
      "execution_count": null,
      "outputs": []
    },
    {
      "cell_type": "code",
      "metadata": {
        "id": "rIc-ms9m2NKk"
      },
      "source": [
        "embedding_size=5\n",
        "model=tf.keras.models.Sequential()\n",
        "model.add(Embedding(vocab_size,embedding_size,name='embedded'))\n",
        "model.add(tf.keras.layers.GlobalAveragePooling1D())\n",
        "#model.add(tf.keras.layers.Flatten())\n",
        "model.add(tf.keras.layers.Dense(1,activation='sigmoid'))"
      ],
      "execution_count": null,
      "outputs": []
    },
    {
      "cell_type": "code",
      "metadata": {
        "colab": {
          "base_uri": "https://localhost:8080/"
        },
        "id": "bweawVNA2M7j",
        "outputId": "9f61678a-fb10-4d9e-857f-c59935ddcb42"
      },
      "source": [
        "model.compile(optimizer='adam',loss='binary_crossentropy',metrics=['accuracy'])\n",
        "model.summary()"
      ],
      "execution_count": null,
      "outputs": [
        {
          "output_type": "stream",
          "name": "stdout",
          "text": [
            "Model: \"sequential\"\n",
            "_________________________________________________________________\n",
            "Layer (type)                 Output Shape              Param #   \n",
            "=================================================================\n",
            "embedded (Embedding)         (None, None, 5)           100000    \n",
            "_________________________________________________________________\n",
            "global_average_pooling1d (Gl (None, 5)                 0         \n",
            "_________________________________________________________________\n",
            "dense (Dense)                (None, 1)                 6         \n",
            "=================================================================\n",
            "Total params: 100,006\n",
            "Trainable params: 100,006\n",
            "Non-trainable params: 0\n",
            "_________________________________________________________________\n"
          ]
        }
      ]
    },
    {
      "cell_type": "code",
      "metadata": {
        "colab": {
          "base_uri": "https://localhost:8080/"
        },
        "id": "leitJFG92M52",
        "outputId": "18d58270-e3ec-4581-aacc-a8a4142f8528"
      },
      "source": [
        "history = model.fit(trainX,trainY,validation_data=(testX,testY),epochs=30)"
      ],
      "execution_count": null,
      "outputs": [
        {
          "output_type": "stream",
          "name": "stdout",
          "text": [
            "Epoch 1/30\n",
            "125/125 [==============================] - 1s 5ms/step - loss: 0.6816 - accuracy: 0.5855 - val_loss: 0.6843 - val_accuracy: 0.5480\n",
            "Epoch 2/30\n",
            "125/125 [==============================] - 1s 4ms/step - loss: 0.6641 - accuracy: 0.5905 - val_loss: 0.6815 - val_accuracy: 0.5480\n",
            "Epoch 3/30\n",
            "125/125 [==============================] - 0s 4ms/step - loss: 0.6504 - accuracy: 0.5932 - val_loss: 0.6763 - val_accuracy: 0.5480\n",
            "Epoch 4/30\n",
            "125/125 [==============================] - 1s 5ms/step - loss: 0.6348 - accuracy: 0.6025 - val_loss: 0.6671 - val_accuracy: 0.5508\n",
            "Epoch 5/30\n",
            "125/125 [==============================] - 1s 4ms/step - loss: 0.6158 - accuracy: 0.6323 - val_loss: 0.6577 - val_accuracy: 0.5663\n",
            "Epoch 6/30\n",
            "125/125 [==============================] - 0s 4ms/step - loss: 0.5943 - accuracy: 0.6810 - val_loss: 0.6465 - val_accuracy: 0.6025\n",
            "Epoch 7/30\n",
            "125/125 [==============================] - 0s 4ms/step - loss: 0.5708 - accuracy: 0.7205 - val_loss: 0.6355 - val_accuracy: 0.6272\n",
            "Epoch 8/30\n",
            "125/125 [==============================] - 1s 4ms/step - loss: 0.5467 - accuracy: 0.7667 - val_loss: 0.6250 - val_accuracy: 0.6482\n",
            "Epoch 9/30\n",
            "125/125 [==============================] - 0s 4ms/step - loss: 0.5229 - accuracy: 0.7865 - val_loss: 0.6134 - val_accuracy: 0.6759\n",
            "Epoch 10/30\n",
            "125/125 [==============================] - 0s 4ms/step - loss: 0.5001 - accuracy: 0.8195 - val_loss: 0.6040 - val_accuracy: 0.6850\n",
            "Epoch 11/30\n",
            "125/125 [==============================] - 0s 4ms/step - loss: 0.4785 - accuracy: 0.8273 - val_loss: 0.5949 - val_accuracy: 0.6942\n",
            "Epoch 12/30\n",
            "125/125 [==============================] - 0s 4ms/step - loss: 0.4583 - accuracy: 0.8390 - val_loss: 0.5870 - val_accuracy: 0.7069\n",
            "Epoch 13/30\n",
            "125/125 [==============================] - 0s 4ms/step - loss: 0.4393 - accuracy: 0.8508 - val_loss: 0.5815 - val_accuracy: 0.7080\n",
            "Epoch 14/30\n",
            "125/125 [==============================] - 0s 4ms/step - loss: 0.4216 - accuracy: 0.8602 - val_loss: 0.5756 - val_accuracy: 0.7133\n",
            "Epoch 15/30\n",
            "125/125 [==============================] - 0s 4ms/step - loss: 0.4053 - accuracy: 0.8625 - val_loss: 0.5694 - val_accuracy: 0.7169\n",
            "Epoch 16/30\n",
            "125/125 [==============================] - 0s 4ms/step - loss: 0.3902 - accuracy: 0.8715 - val_loss: 0.5665 - val_accuracy: 0.7160\n",
            "Epoch 17/30\n",
            "125/125 [==============================] - 0s 4ms/step - loss: 0.3760 - accuracy: 0.8775 - val_loss: 0.5628 - val_accuracy: 0.7193\n",
            "Epoch 18/30\n",
            "125/125 [==============================] - 1s 4ms/step - loss: 0.3625 - accuracy: 0.8830 - val_loss: 0.5569 - val_accuracy: 0.7260\n",
            "Epoch 19/30\n",
            "125/125 [==============================] - 0s 4ms/step - loss: 0.3500 - accuracy: 0.8857 - val_loss: 0.5549 - val_accuracy: 0.7254\n",
            "Epoch 20/30\n",
            "125/125 [==============================] - 0s 4ms/step - loss: 0.3379 - accuracy: 0.8898 - val_loss: 0.5555 - val_accuracy: 0.7252\n",
            "Epoch 21/30\n",
            "125/125 [==============================] - 0s 4ms/step - loss: 0.3266 - accuracy: 0.8928 - val_loss: 0.5508 - val_accuracy: 0.7249\n",
            "Epoch 22/30\n",
            "125/125 [==============================] - 1s 4ms/step - loss: 0.3158 - accuracy: 0.8980 - val_loss: 0.5501 - val_accuracy: 0.7254\n",
            "Epoch 23/30\n",
            "125/125 [==============================] - 0s 4ms/step - loss: 0.3054 - accuracy: 0.9010 - val_loss: 0.5517 - val_accuracy: 0.7254\n",
            "Epoch 24/30\n",
            "125/125 [==============================] - 0s 4ms/step - loss: 0.2956 - accuracy: 0.9032 - val_loss: 0.5501 - val_accuracy: 0.7246\n",
            "Epoch 25/30\n",
            "125/125 [==============================] - 0s 4ms/step - loss: 0.2860 - accuracy: 0.9072 - val_loss: 0.5481 - val_accuracy: 0.7290\n",
            "Epoch 26/30\n",
            "125/125 [==============================] - 1s 4ms/step - loss: 0.2768 - accuracy: 0.9115 - val_loss: 0.5513 - val_accuracy: 0.7265\n",
            "Epoch 27/30\n",
            "125/125 [==============================] - 0s 4ms/step - loss: 0.2683 - accuracy: 0.9133 - val_loss: 0.5512 - val_accuracy: 0.7263\n",
            "Epoch 28/30\n",
            "125/125 [==============================] - 0s 4ms/step - loss: 0.2597 - accuracy: 0.9168 - val_loss: 0.5494 - val_accuracy: 0.7285\n",
            "Epoch 29/30\n",
            "125/125 [==============================] - 0s 4ms/step - loss: 0.2515 - accuracy: 0.9200 - val_loss: 0.5505 - val_accuracy: 0.7288\n",
            "Epoch 30/30\n",
            "125/125 [==============================] - 0s 4ms/step - loss: 0.2437 - accuracy: 0.9225 - val_loss: 0.5489 - val_accuracy: 0.7312\n"
          ]
        }
      ]
    },
    {
      "cell_type": "code",
      "metadata": {
        "id": "oZ6MnkTZZHX-"
      },
      "source": [
        "weights = model.get_layer('embedded').get_weights()[0]"
      ],
      "execution_count": null,
      "outputs": []
    },
    {
      "cell_type": "code",
      "metadata": {
        "id": "0ixST-DdGod_",
        "colab": {
          "base_uri": "https://localhost:8080/",
          "height": 543
        },
        "outputId": "4f1fc11f-cdc8-4dae-ba43-24d0096264a8"
      },
      "source": [
        "import matplotlib.pyplot as plt\n",
        "\n",
        "\n",
        "def plot_graphs(history, string):\n",
        "  plt.plot(history.history[string])\n",
        "  plt.plot(history.history['val_'+string])\n",
        "  plt.xlabel(\"Epochs\")\n",
        "  plt.ylabel(string)\n",
        "  plt.legend([string, 'val_'+string])\n",
        "  plt.show()\n",
        "  \n",
        "plot_graphs(history, \"accuracy\")\n",
        "plot_graphs(history, \"loss\")"
      ],
      "execution_count": null,
      "outputs": [
        {
          "output_type": "display_data",
          "data": {
            "image/png": "[encoded data removed]",
            "text/plain": [
              "<Figure size 432x288 with 1 Axes>"
            ]
          },
          "metadata": {
            "needs_background": "light"
          }
        },
        {
          "output_type": "display_data",
          "data": {
            "image/png": "[encoded data removed]",
            "text/plain": [
              "<Figure size 432x288 with 1 Axes>"
            ]
          },
          "metadata": {
            "needs_background": "light"
          }
        }
      ]
    },
    {
      "cell_type": "code",
      "metadata": {
        "id": "YrtUsnNXQKOh"
      },
      "source": [
        ""
      ],
      "execution_count": null,
      "outputs": []
    }
  ]
}